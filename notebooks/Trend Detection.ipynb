{
 "cells": [
  {
   "cell_type": "code",
   "execution_count": 5,
   "id": "13b9da1a-1fee-4874-b7f2-1f700bba413f",
   "metadata": {},
   "outputs": [
    {
     "name": "stdout",
     "output_type": "stream",
     "text": [
      "The autoreload extension is already loaded. To reload it, use:\n",
      "  %reload_ext autoreload\n"
     ]
    }
   ],
   "source": [
    "%load_ext autoreload\n",
    "%autoreload 2\n",
    "\n",
    "import sys\n",
    "sys.path.append('..')\n",
    "    \n",
    "import pandas as pd\n",
    "import time\n",
    "import random\n",
    "\n",
    "from openai import AzureOpenAI\n",
    "from sklearn.model_selection import train_test_split\n",
    "from sklearn.metrics.pairwise import cosine_similarity\n",
    "from sklearn.cluster import DBSCAN\n",
    "from sklearn.feature_extraction.text import TfidfVectorizer\n",
    "\n",
    "import faiss\n",
    "import numpy as np\n",
    "from sentence_transformers import SentenceTransformer\n",
    "\n",
    "from trend_detection.trend_detection_embeddings import TrendDetectorEmbeddings\n",
    "\n",
    "from trend_detection.preprocessing import preprocess_text\n",
    "from profiler import profile_function"
   ]
  },
  {
   "cell_type": "code",
   "execution_count": 10,
   "id": "72f0c34e-3ef0-419f-a9f3-3322396fede8",
   "metadata": {},
   "outputs": [
    {
     "data": {
      "text/html": [
       "<div>\n",
       "<style scoped>\n",
       "    .dataframe tbody tr th:only-of-type {\n",
       "        vertical-align: middle;\n",
       "    }\n",
       "\n",
       "    .dataframe tbody tr th {\n",
       "        vertical-align: top;\n",
       "    }\n",
       "\n",
       "    .dataframe thead th {\n",
       "        text-align: right;\n",
       "    }\n",
       "</style>\n",
       "<table border=\"1\" class=\"dataframe\">\n",
       "  <thead>\n",
       "    <tr style=\"text-align: right;\">\n",
       "      <th></th>\n",
       "      <th>event_name</th>\n",
       "      <th>category</th>\n",
       "      <th>text</th>\n",
       "    </tr>\n",
       "  </thead>\n",
       "  <tbody>\n",
       "    <tr>\n",
       "      <th>0</th>\n",
       "      <td>Cherry blossom peak in Tokyo</td>\n",
       "      <td>NATURE</td>\n",
       "      <td>\"The city is vibrant! Sakura has peaked earlie...</td>\n",
       "    </tr>\n",
       "    <tr>\n",
       "      <th>1</th>\n",
       "      <td>Traffic pile-up in Los Angeles</td>\n",
       "      <td>URBAN</td>\n",
       "      <td>\"Makes sense given LA traffic.\" #LATraffic #40...</td>\n",
       "    </tr>\n",
       "    <tr>\n",
       "      <th>2</th>\n",
       "      <td>Pop-up market in Barcelona</td>\n",
       "      <td>CULTURE</td>\n",
       "      <td>\"Love stumbling upon the unexpected! Barcelona...</td>\n",
       "    </tr>\n",
       "    <tr>\n",
       "      <th>3</th>\n",
       "      <td>Street flooding in Mumbai</td>\n",
       "      <td>NATURE</td>\n",
       "      <td>\"Just when we thought monsoon season couldn't ...</td>\n",
       "    </tr>\n",
       "    <tr>\n",
       "      <th>4</th>\n",
       "      <td>Food festival in Rome</td>\n",
       "      <td>CULTURE</td>\n",
       "      <td>\"Amazing variety of 50 regional pasta dishes h...</td>\n",
       "    </tr>\n",
       "  </tbody>\n",
       "</table>\n",
       "</div>"
      ],
      "text/plain": [
       "                       event_name category  \\\n",
       "0    Cherry blossom peak in Tokyo   NATURE   \n",
       "1  Traffic pile-up in Los Angeles    URBAN   \n",
       "2      Pop-up market in Barcelona  CULTURE   \n",
       "3       Street flooding in Mumbai   NATURE   \n",
       "4           Food festival in Rome  CULTURE   \n",
       "\n",
       "                                                text  \n",
       "0  \"The city is vibrant! Sakura has peaked earlie...  \n",
       "1  \"Makes sense given LA traffic.\" #LATraffic #40...  \n",
       "2  \"Love stumbling upon the unexpected! Barcelona...  \n",
       "3  \"Just when we thought monsoon season couldn't ...  \n",
       "4  \"Amazing variety of 50 regional pasta dishes h...  "
      ]
     },
     "execution_count": 10,
     "metadata": {},
     "output_type": "execute_result"
    }
   ],
   "source": [
    "df_local = pd.read_json('../trend_detection/data/local_events_messages_2.json')\n",
    "df_local.head()"
   ]
  },
  {
   "cell_type": "code",
   "execution_count": 7,
   "id": "a2bb4490-e544-4ba5-80b4-1087b6ad0187",
   "metadata": {},
   "outputs": [],
   "source": [
    "processed_messages = []\n",
    "\n",
    "for m in df_local[\"text\"]:\n",
    "    processed_messages.append(preprocess_text(m))\n",
    "\n",
    "df_local[\"text_processed\"] = processed_messages"
   ]
  },
  {
   "cell_type": "code",
   "execution_count": 8,
   "id": "5a8c806b-952b-4465-9835-9e06c253c009",
   "metadata": {},
   "outputs": [],
   "source": [
    "td = TrendDetectorEmbeddings()"
   ]
  },
  {
   "cell_type": "code",
   "execution_count": 9,
   "id": "bf4703e7-3fc8-459c-80f0-fc8301f515f6",
   "metadata": {},
   "outputs": [
    {
     "name": "stderr",
     "output_type": "stream",
     "text": [
      "huggingface/tokenizers: The current process just got forked, after parallelism has already been used. Disabling parallelism to avoid deadlocks...\n",
      "To disable this warning, you can either:\n",
      "\t- Avoid using `tokenizers` before the fork if possible\n",
      "\t- Explicitly set the environment variable TOKENIZERS_PARALLELISM=(true | false)\n"
     ]
    },
    {
     "name": "stdout",
     "output_type": "stream",
     "text": [
      "New Trend created: stem, projects, londonscifair, young, innovators\n",
      "New Trend created: migration, wildlife, safari, interesting, wildebeest\n",
      "New Trend created: education, santiago, center, chileprotests, reform\n",
      "New Trend created: tokyo, sakura, hanami, spring, parks\n",
      "New Trend created: music, orchestra, streetmusic, nycmusic, flash\n",
      "New Trend created: weather, traffic, dublinrainbow, storm, triple\n",
      "New Trend created: urban, streetart, melbourneart, art, new\n",
      "New Trend created: festival, brazil, riocarnival, packed, parades\n",
      "New Trend created: kpop, traffic, gangnamstation, seoulflashmob, station\n",
      "New Trend created: stockholm, weirdweather, darksky, tonight, sky\n",
      "New Trend created: street, barcelona, local, gothic, quarter\n",
      "New Trend created: ttcalert, commuterproblems, torontotransit, subway, technical\n",
      "New Trend created: food, market, bangkokfood, thailand, streetfood\n",
      "New Trend created: pasta, italianfood, romefoodfest, pastafestival, varieties\n",
      "New Trend created: celebration, champions, london, fans, chelsea\n",
      "New Trend created: another, commute, latraffic, 405traffic, i405\n",
      "New Trend created: transit, berlintransport, berlinstrike, strike, bike\n",
      "New Trend created: popup, parisfood, famous, foodieheaven, surprise\n",
      "New Trend created: monsoon, safe, stay, mumbairains, mumbaifloods\n",
      "New Trend created: sydney, traffic, sydneyblackout, poweroutage, candlelit\n",
      "New Trend created: delays, karlthefog, flight, fogcity, views\n"
     ]
    }
   ],
   "source": [
    "df = df_local\n",
    "\n",
    "messages = list(df[\"text_processed\"])\n",
    "random.shuffle(messages)\n",
    "\n",
    "for i, message in enumerate(messages):\n",
    "    td.process_message(message, \"LA\", time.time())"
   ]
  }
 ],
 "metadata": {
  "kernelspec": {
   "display_name": "Python 3 (ipykernel)",
   "language": "python",
   "name": "python3"
  },
  "language_info": {
   "codemirror_mode": {
    "name": "ipython",
    "version": 3
   },
   "file_extension": ".py",
   "mimetype": "text/x-python",
   "name": "python",
   "nbconvert_exporter": "python",
   "pygments_lexer": "ipython3",
   "version": "3.9.6"
  }
 },
 "nbformat": 4,
 "nbformat_minor": 5
}
