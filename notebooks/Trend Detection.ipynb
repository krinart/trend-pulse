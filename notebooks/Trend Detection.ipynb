{
 "cells": [
  {
   "cell_type": "code",
   "execution_count": 2,
   "id": "13b9da1a-1fee-4874-b7f2-1f700bba413f",
   "metadata": {},
   "outputs": [
    {
     "name": "stdout",
     "output_type": "stream",
     "text": [
      "The autoreload extension is already loaded. To reload it, use:\n",
      "  %reload_ext autoreload\n"
     ]
    }
   ],
   "source": [
    "%load_ext autoreload\n",
    "%autoreload 2\n",
    "\n",
    "import sys\n",
    "import os\n",
    "sys.path.append(os.path.abspath('../trend_detection/'))\n",
    "    \n",
    "import pandas as pd\n",
    "import time\n",
    "import random\n",
    "\n",
    "from openai import AzureOpenAI\n",
    "from sklearn.model_selection import train_test_split\n",
    "from sklearn.metrics.pairwise import cosine_similarity\n",
    "from sklearn.cluster import DBSCAN\n",
    "from sklearn.feature_extraction.text import TfidfVectorizer\n",
    "\n",
    "import faiss\n",
    "import numpy as np\n",
    "from sentence_transformers import SentenceTransformer\n",
    "\n",
    "from trend_detection_embeddings import TrendDetectorEmbeddings\n",
    "from preprocessing import preprocess_text\n",
    "from profiler import profile_function"
   ]
  },
  {
   "cell_type": "code",
   "execution_count": 3,
   "id": "72f0c34e-3ef0-419f-a9f3-3322396fede8",
   "metadata": {},
   "outputs": [
    {
     "data": {
      "text/html": [
       "<div>\n",
       "<style scoped>\n",
       "    .dataframe tbody tr th:only-of-type {\n",
       "        vertical-align: middle;\n",
       "    }\n",
       "\n",
       "    .dataframe tbody tr th {\n",
       "        vertical-align: top;\n",
       "    }\n",
       "\n",
       "    .dataframe thead th {\n",
       "        text-align: right;\n",
       "    }\n",
       "</style>\n",
       "<table border=\"1\" class=\"dataframe\">\n",
       "  <thead>\n",
       "    <tr style=\"text-align: right;\">\n",
       "      <th></th>\n",
       "      <th>event_name</th>\n",
       "      <th>category</th>\n",
       "      <th>text</th>\n",
       "    </tr>\n",
       "  </thead>\n",
       "  <tbody>\n",
       "    <tr>\n",
       "      <th>0</th>\n",
       "      <td>Cherry blossom peak in Tokyo</td>\n",
       "      <td>NATURE</td>\n",
       "      <td>\"The city is vibrant! Sakura has peaked earlie...</td>\n",
       "    </tr>\n",
       "    <tr>\n",
       "      <th>1</th>\n",
       "      <td>Traffic pile-up in Los Angeles</td>\n",
       "      <td>URBAN</td>\n",
       "      <td>\"Makes sense given LA traffic.\" #LATraffic #40...</td>\n",
       "    </tr>\n",
       "    <tr>\n",
       "      <th>2</th>\n",
       "      <td>Pop-up market in Barcelona</td>\n",
       "      <td>CULTURE</td>\n",
       "      <td>\"Love stumbling upon the unexpected! Barcelona...</td>\n",
       "    </tr>\n",
       "    <tr>\n",
       "      <th>3</th>\n",
       "      <td>Street flooding in Mumbai</td>\n",
       "      <td>NATURE</td>\n",
       "      <td>\"Just when we thought monsoon season couldn't ...</td>\n",
       "    </tr>\n",
       "    <tr>\n",
       "      <th>4</th>\n",
       "      <td>Food festival in Rome</td>\n",
       "      <td>CULTURE</td>\n",
       "      <td>\"Amazing variety of 50 regional pasta dishes h...</td>\n",
       "    </tr>\n",
       "  </tbody>\n",
       "</table>\n",
       "</div>"
      ],
      "text/plain": [
       "                       event_name category  \\\n",
       "0    Cherry blossom peak in Tokyo   NATURE   \n",
       "1  Traffic pile-up in Los Angeles    URBAN   \n",
       "2      Pop-up market in Barcelona  CULTURE   \n",
       "3       Street flooding in Mumbai   NATURE   \n",
       "4           Food festival in Rome  CULTURE   \n",
       "\n",
       "                                                text  \n",
       "0  \"The city is vibrant! Sakura has peaked earlie...  \n",
       "1  \"Makes sense given LA traffic.\" #LATraffic #40...  \n",
       "2  \"Love stumbling upon the unexpected! Barcelona...  \n",
       "3  \"Just when we thought monsoon season couldn't ...  \n",
       "4  \"Amazing variety of 50 regional pasta dishes h...  "
      ]
     },
     "execution_count": 3,
     "metadata": {},
     "output_type": "execute_result"
    }
   ],
   "source": [
    "df_local = pd.read_json('../trend_detection/data/local_events_messages_2.json')\n",
    "df_local.head()"
   ]
  },
  {
   "cell_type": "code",
   "execution_count": 7,
   "id": "a2bb4490-e544-4ba5-80b4-1087b6ad0187",
   "metadata": {},
   "outputs": [],
   "source": [
    "# processed_messages = []\n",
    "\n",
    "# for m in df_local[\"text\"]:\n",
    "#     processed_messages.append(preprocess_text(m))\n",
    "\n",
    "# df_local[\"text_processed\"] = processed_messages"
   ]
  },
  {
   "cell_type": "code",
   "execution_count": 4,
   "id": "5a8c806b-952b-4465-9835-9e06c253c009",
   "metadata": {},
   "outputs": [],
   "source": [
    "td = TrendDetectorEmbeddings()"
   ]
  },
  {
   "cell_type": "code",
   "execution_count": 5,
   "id": "bf4703e7-3fc8-459c-80f0-fc8301f515f6",
   "metadata": {},
   "outputs": [
    {
     "name": "stderr",
     "output_type": "stream",
     "text": [
      "huggingface/tokenizers: The current process just got forked, after parallelism has already been used. Disabling parallelism to avoid deadlocks...\n",
      "To disable this warning, you can either:\n",
      "\t- Avoid using `tokenizers` before the fork if possible\n",
      "\t- Explicitly set the environment variable TOKENIZERS_PARALLELISM=(true | false)\n"
     ]
    },
    {
     "name": "stdout",
     "output_type": "stream",
     "text": [
      "New Trend created: food, thailand, streetfood, market, bangkok\n",
      "New Trend created: kpop, dance, seoulflashmob, gangnamstation, traffic\n",
      "New Trend created: migration, wildlife, perth, months, wildebeest\n",
      "New Trend created: celebration, chelsea, champions, london, streets\n",
      "New Trend created: londonscifair, stem, innovators, projects, young\n",
      "New Trend created: crafts, barcelona, street, artisanmarket, quarter\n",
      "New Trend created: subway, ttcalert, commuterproblems, torontotransit, morning\n",
      "New Trend created: brazil, beaches, riocarnival, festival, streets\n",
      "New Trend created: education, santiago, students, chileprotests, peaceful\n",
      "New Trend created: weather, rainbow, ireland, triple, traffic\n",
      "New Trend created: urban, melbourneart, mural, interesting, streetart\n",
      "New Trend created: nycmusic, timessquare, streetmusic, orchestra, traffic\n",
      "New Trend created: stockholm, sky, weirdweather, darksky, tonight\n",
      "New Trend created: transit, berlinstrike, berlintransport, strike, bike\n",
      "New Trend created: tokyo, hanami, sakura, spring, peak\n",
      "New Trend created: popup, foodieheaven, parisfood, surprise, paris\n",
      "New Trend created: pasta, romefoodfest, italianfood, pastafestival, regional\n",
      "New Trend created: commute, 405traffic, latraffic, morning, routes\n",
      "New Trend created: sydney, sydneyblackout, signals, traffic, poweroutage\n",
      "New Trend created: monsoon, stay, mumbaifloods, help, mumbai\n",
      "New Trend created: fogcity, karlthefog, delays, flight, fog\n"
     ]
    }
   ],
   "source": [
    "td = TrendDetectorEmbeddings()\n",
    "\n",
    "messages = list(df[\"text\"])\n",
    "random.shuffle(messages)\n",
    "\n",
    "for i, message in enumerate(messages):\n",
    "    td.process_message(message, \"LA\", time.time())"
   ]
  }
 ],
 "metadata": {
  "kernelspec": {
   "display_name": "Python 3 (ipykernel)",
   "language": "python",
   "name": "python3"
  },
  "language_info": {
   "codemirror_mode": {
    "name": "ipython",
    "version": 3
   },
   "file_extension": ".py",
   "mimetype": "text/x-python",
   "name": "python",
   "nbconvert_exporter": "python",
   "pygments_lexer": "ipython3",
   "version": "3.9.6"
  }
 },
 "nbformat": 4,
 "nbformat_minor": 5
}
