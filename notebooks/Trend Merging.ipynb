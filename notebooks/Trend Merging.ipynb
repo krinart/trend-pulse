{
 "cells": [
  {
   "cell_type": "code",
   "execution_count": 1,
   "id": "9a409cd1-6755-4f41-9b27-e79d43c8701e",
   "metadata": {},
   "outputs": [
    {
     "name": "stderr",
     "output_type": "stream",
     "text": [
      "/Users/viktor/workspace/ds2/.venv/lib/python3.9/site-packages/urllib3/__init__.py:35: NotOpenSSLWarning: urllib3 v2 only supports OpenSSL 1.1.1+, currently the 'ssl' module is compiled with 'LibreSSL 2.8.3'. See: https://github.com/urllib3/urllib3/issues/3020\n",
      "  warnings.warn(\n",
      "[nltk_data] Downloading package punkt to /Users/viktor/nltk_data...\n",
      "[nltk_data]   Package punkt is already up-to-date!\n",
      "[nltk_data] Downloading package punkt_tab to\n",
      "[nltk_data]     /Users/viktor/nltk_data...\n",
      "[nltk_data]   Package punkt_tab is already up-to-date!\n",
      "[nltk_data] Downloading package stopwords to\n",
      "[nltk_data]     /Users/viktor/nltk_data...\n",
      "[nltk_data]   Package stopwords is already up-to-date!\n",
      "[nltk_data] Downloading package wordnet to /Users/viktor/nltk_data...\n",
      "[nltk_data]   Package wordnet is already up-to-date!\n"
     ]
    }
   ],
   "source": [
    "%load_ext autoreload\n",
    "%autoreload 2\n",
    "\n",
    "from trend_detection import TrendDetector\n",
    "import pandas as pd\n",
    "import time\n",
    "import random\n",
    "\n",
    "from openai import AzureOpenAI\n",
    "from sklearn.model_selection import train_test_split\n",
    "from sklearn.metrics.pairwise import cosine_similarity\n",
    "from sklearn.cluster import DBSCAN\n",
    "from sklearn.feature_extraction.text import TfidfVectorizer\n",
    "\n",
    "import faiss\n",
    "import numpy as np\n",
    "from sentence_transformers import SentenceTransformer\n",
    "\n",
    "from trend_detection_embeddings import TrendDetectorEmbeddings\n",
    "\n",
    "from preprocessing import preprocess_text\n",
    "from profiler import profile_function"
   ]
  },
  {
   "cell_type": "code",
   "execution_count": 50,
   "id": "818fe83d-ad71-4968-9834-58fd0fe5c10f",
   "metadata": {},
   "outputs": [],
   "source": [
    "df_local[['text']].to_json('data/local_events_messages_3.json', orient='records')"
   ]
  },
  {
   "cell_type": "code",
   "execution_count": null,
   "id": "e44c01df-f525-4638-84eb-e9b41a9e5f5f",
   "metadata": {},
   "outputs": [],
   "source": []
  },
  {
   "cell_type": "code",
   "execution_count": 7,
   "id": "7061d9d6-3ef2-4452-9aee-12a87c2b36af",
   "metadata": {},
   "outputs": [],
   "source": [
    "model = SentenceTransformer('all-MiniLM-L6-v2')"
   ]
  },
  {
   "cell_type": "code",
   "execution_count": 17,
   "id": "0338b0df-68f2-4aa3-902a-acdd75a04556",
   "metadata": {},
   "outputs": [],
   "source": [
    "df_local = pd.read_json('data/local_events_messages_2.json')\n",
    "processed_messages = []\n",
    "\n",
    "for m in df_local[\"text\"]:\n",
    "    processed_messages.append(preprocess_text(m))\n",
    "\n",
    "df_local[\"text_processed\"] = processed_messages\n",
    "embeddings = \n",
    "df_local['embeddings'] = model.encode(df_local[\"text_processed\"]).tolist()"
   ]
  },
  {
   "cell_type": "code",
   "execution_count": 3,
   "id": "e4bf7a84-d488-42a9-93e9-86c72e10d19a",
   "metadata": {},
   "outputs": [],
   "source": [
    "def split_train_test(df, train_size=0.5):\n",
    "    train_idx = []\n",
    "    test_idx = []\n",
    "    \n",
    "    for event_name, message_idx in df.groupby('event_name').groups.items():\n",
    "        train, test = train_test_split(message_idx, train_size=train_size)\n",
    "        train_idx.extend(train)\n",
    "        test_idx.extend(test)\n",
    "    \n",
    "    train_df = df.iloc[train_idx]\n",
    "    test_df = df.iloc[test_idx]\n",
    "\n",
    "    train_df = train_df.reset_index()\n",
    "    test_df = test_df.reset_index()\n",
    "\n",
    "    return train_df, test_df"
   ]
  },
  {
   "cell_type": "code",
   "execution_count": 18,
   "id": "5e311c2c-5f77-46df-9981-4230345db871",
   "metadata": {},
   "outputs": [
    {
     "data": {
      "text/plain": [
       "((1050, 6), (1050, 6))"
      ]
     },
     "execution_count": 18,
     "metadata": {},
     "output_type": "execute_result"
    }
   ],
   "source": [
    "df1, df2 = split_train_test(df_local, 0.5)\n",
    "df1.shape, df2.shape"
   ]
  },
  {
   "cell_type": "code",
   "execution_count": 24,
   "id": "a225db3c-6b9f-4166-b482-c0940e9392e6",
   "metadata": {},
   "outputs": [],
   "source": [
    "def run_trend_detection(df):\n",
    "\n",
    "    td = TrendDetectorEmbeddings(model=model)\n",
    "    \n",
    "    def myfunction():\n",
    "      return 0.1\n",
    "    \n",
    "    messages = list(df[\"text_processed\"])\n",
    "    random.shuffle(messages, random=myfunction)\n",
    "    \n",
    "    for i, message in enumerate(messages):\n",
    "        td.process_message(message, \"LA\", time.time())\n",
    "    \n",
    "    return td"
   ]
  },
  {
   "cell_type": "code",
   "execution_count": 25,
   "id": "c69ad76f-d39d-4640-9d74-6fee75f2f155",
   "metadata": {},
   "outputs": [
    {
     "name": "stderr",
     "output_type": "stream",
     "text": [
      "/var/folders/dd/hn5sg82j5fl1y3tj3xbr8g4m0000gn/T/ipykernel_99444/313486573.py:9: DeprecationWarning: The *random* parameter to shuffle() has been deprecated\n",
      "since Python 3.9 and will be removed in a subsequent version.\n",
      "  random.shuffle(messages, random=myfunction)\n",
      "huggingface/tokenizers: The current process just got forked, after parallelism has already been used. Disabling parallelism to avoid deadlocks...\n",
      "To disable this warning, you can either:\n",
      "\t- Avoid using `tokenizers` before the fork if possible\n",
      "\t- Explicitly set the environment variable TOKENIZERS_PARALLELISM=(true | false)\n"
     ]
    },
    {
     "name": "stdout",
     "output_type": "stream",
     "text": [
      "New Trend created: tokyo, hanami, sakura, spring, cherry\n",
      "New Trend created: karlthefog, dont, flight, delays, fogcity\n",
      "New Trend created: pasta, italianfood, romefoodfest, pastafestival, food\n",
      "New Trend created: food, street, streetfood, thailand, bangkokfood\n",
      "New Trend created: festival, brazil, riocarnival, rio, preevent\n",
      "New Trend created: education, santiago, students, chileprotests, peaceful\n",
      "New Trend created: street, barcelona, quarter, artisanmarket, gothic\n",
      "New Trend created: sydney, sydneyblackout, traffic, poweroutage, candlelit\n",
      "New Trend created: commuterproblems, torontotransit, ttcalert, chaos, subway\n",
      "New Trend created: transit, berlintransport, berlinstrike, strike, worker\n",
      "New Trend created: weather, rainbow, traffic, dublinrainbow, ireland\n",
      "New Trend created: popup, foodieheaven, parisfood, restaurant, paris\n",
      "New Trend created: kpop, seoulflashmob, traffic, gangnamstation, station\n",
      "New Trend created: stem, projects, young, innovators, londonscifair\n",
      "New Trend created: celebration, chelsea, champions, london, streets\n",
      "New Trend created: urban, art, mural, melbourneart, new\n",
      "New Trend created: monsoon, stay, safe, mumbairains, mumbaifloods\n",
      "New Trend created: nycmusic, timessquare, streetmusic, orchestra, flash\n",
      "New Trend created: commute, latraffic, 405traffic, gridlock, alternate\n",
      "New Trend created: migration, wildlife, serengeti, perth, safari\n",
      "New Trend created: stockholm, sky, darksky, weirdweather, rare\n"
     ]
    }
   ],
   "source": [
    "td1 = run_trend_detection(df1)"
   ]
  },
  {
   "cell_type": "code",
   "execution_count": 26,
   "id": "c95cf99a-e6df-4f82-9992-07d3a00b8d34",
   "metadata": {},
   "outputs": [
    {
     "name": "stderr",
     "output_type": "stream",
     "text": [
      "/var/folders/dd/hn5sg82j5fl1y3tj3xbr8g4m0000gn/T/ipykernel_99444/313486573.py:9: DeprecationWarning: The *random* parameter to shuffle() has been deprecated\n",
      "since Python 3.9 and will be removed in a subsequent version.\n",
      "  random.shuffle(messages, random=myfunction)\n"
     ]
    },
    {
     "name": "stdout",
     "output_type": "stream",
     "text": [
      "New Trend created: tokyo, hanami, sakura, temples, parks\n",
      "New Trend created: fogcity, karlthefog, delays, flight, views\n",
      "New Trend created: pasta, italianfood, pastafestival, romefoodfest, varieties\n",
      "New Trend created: food, thailand, bangkokfood, streetfood, market\n",
      "New Trend created: festival, brazil, riocarnival, rio, beach\n",
      "New Trend created: education, santiago, chileprotests, reform, students\n",
      "New Trend created: street, barcelona, music, localcraft, gothic\n",
      "New Trend created: sydney, sydneyblackout, poweroutage, traffic, candlelit\n",
      "New Trend created: torontotransit, commuterproblems, ttcalert, subway, chaos\n",
      "New Trend created: transit, berlintransport, berlinstrike, bike, strike\n",
      "New Trend created: weather, rainbow, dublinrainbow, ireland, traffic\n",
      "New Trend created: popup, foodieheaven, parisfood, surprise, famous\n",
      "New Trend created: kpop, dance, traffic, gangnam, seoulflashmob\n",
      "New Trend created: stem, young, londonscifair, younginnovators, projects\n",
      "New Trend created: celebration, champions, chelsea, london, streets\n",
      "New Trend created: art, urban, melbourneart, streetart, mural\n",
      "New Trend created: monsoon, mumbai, stay, mumbairains, mumbaifloods\n",
      "New Trend created: nycmusic, timessquare, streetmusic, flash, orchestra\n",
      "New Trend created: commute, latraffic, 405traffic, i405, alternate\n",
      "New Trend created: migration, wildlife, serengeti, perth, wildebeest\n",
      "New Trend created: stockholm, sky, weirdweather, darksky, tonight\n"
     ]
    }
   ],
   "source": [
    "td2 = run_trend_detection(df2)"
   ]
  },
  {
   "cell_type": "code",
   "execution_count": 32,
   "id": "1fb7ca37-b6ed-461c-92ea-37d4e6175db9",
   "metadata": {},
   "outputs": [],
   "source": [
    "def check_cosine_similarity(c1, c2):\n",
    "    # Reshape to 2D arrays for sklearn\n",
    "    c1 = np.array(c1).reshape(1, -1)\n",
    "    c2 = np.array(c2).reshape(1, -1)\n",
    "    return cosine_similarity(c1, c2)[0][0]"
   ]
  },
  {
   "cell_type": "code",
   "execution_count": 34,
   "id": "52c1045a-add2-46ab-9bae-5411434f50e9",
   "metadata": {},
   "outputs": [],
   "source": [
    "import itertools"
   ]
  },
  {
   "cell_type": "code",
   "execution_count": 36,
   "id": "6cfce3a3-7822-4072-804a-4195946052a8",
   "metadata": {},
   "outputs": [
    {
     "name": "stdout",
     "output_type": "stream",
     "text": [
      "['tokyo', 'hanami', 'sakura', 'spring', 'peak'] ['tokyo', 'hanami', 'sakura', 'peak', 'spring']\n",
      "['karlthefog', 'fogcity', 'delays', 'flight', 'dont'] ['fogcity', 'delays', 'karlthefog', 'flight', 'views']\n",
      "['pasta', 'italianfood', 'romefoodfest', 'pastafestival', 'food'] ['pasta', 'romefoodfest', 'italianfood', 'pastafestival', 'historic']\n",
      "['food', 'street', 'bangkokfood', 'market', 'streetfood'] ['food', 'thailand', 'bangkokfood', 'streetfood', 'market']\n",
      "['festival', 'brazil', 'riocarnival', 'parades', 'costumes'] ['festival', 'brazil', 'riocarnival', 'parades', 'packed']\n",
      "['education', 'santiago', 'chileprotests', 'students', 'reform'] ['education', 'santiago', 'chileprotests', 'reform', 'center']\n",
      "['street', 'barcelona', 'local', 'market', 'localcraft'] ['street', 'barcelona', 'music', 'local', 'crafts']\n",
      "['sydney', 'traffic', 'sydneyblackout', 'poweroutage', 'cbd'] ['sydney', 'sydneyblackout', 'poweroutage', 'candlelit', 'traffic']\n",
      "['subway', 'commuterproblems', 'ttcalert', 'torontotransit', 'line'] ['subway', 'torontotransit', 'ttcalert', 'commuterproblems', 'morning']\n",
      "['transit', 'strike', 'berlinstrike', 'berlintransport', 'bike'] ['transit', 'berlinstrike', 'berlintransport', 'bike', 'strike']\n",
      "['weather', 'rainbow', 'traffic', 'triple', 'ireland'] ['weather', 'rainbow', 'dublinrainbow', 'ireland', 'triple']\n",
      "['popup', 'parisfood', 'foodieheaven', 'paris', 'restaurant'] ['popup', 'foodieheaven', 'parisfood', 'surprise', 'famous']\n",
      "['kpop', 'dance', 'seoulflashmob', 'traffic', 'gangnam'] ['kpop', 'dance', 'seoulflashmob', 'gangnamstation', 'traffic']\n",
      "['stem', 'projects', 'londonscifair', 'young', 'innovators'] ['stem', 'younginnovators', 'young', 'londonscifair', 'projects']\n",
      "['celebration', 'chelsea', 'champions', 'london', 'streets'] ['celebration', 'chelsea', 'champions', 'london', 'streets']\n",
      "['urban', 'art', 'mural', 'melbourneart', 'streetart'] ['art', 'urban', 'melbourneart', 'streetart', 'mural']\n",
      "['monsoon', 'stay', 'mumbai', 'mumbairains', 'safe'] ['monsoon', 'stay', 'mumbaifloods', 'mumbairains', 'mumbai']\n",
      "['square', 'nycmusic', 'timessquare', 'streetmusic', 'orchestra'] ['nycmusic', 'timessquare', 'streetmusic', 'flash', 'orchestra']\n",
      "['commute', 'latraffic', '405traffic', 'i405', 'gridlock'] ['commute', 'latraffic', '405traffic', 'alternate', 'i405']\n",
      "['migration', 'wildlife', 'serengeti', 'perth', 'interesting'] ['migration', 'wildlife', 'serengeti', 'wildebeest', 'perth']\n",
      "['stockholm', 'sky', 'weirdweather', 'darksky', 'tonight'] ['stockholm', 'sky', 'weirdweather', 'darksky', 'tonight']\n"
     ]
    }
   ],
   "source": [
    "for t1, t2 in itertools.product(td1.trends.values(), td2.trends.values()):\n",
    "    similarity = check_cosine_similarity(t1.centroid, t2.centroid)\n",
    "    if similarity > 0.8:\n",
    "        print(t1.keywords, t2.keywords)"
   ]
  }
 ],
 "metadata": {
  "kernelspec": {
   "display_name": "Python 3 (ipykernel)",
   "language": "python",
   "name": "python3"
  },
  "language_info": {
   "codemirror_mode": {
    "name": "ipython",
    "version": 3
   },
   "file_extension": ".py",
   "mimetype": "text/x-python",
   "name": "python",
   "nbconvert_exporter": "python",
   "pygments_lexer": "ipython3",
   "version": "3.9.6"
  }
 },
 "nbformat": 4,
 "nbformat_minor": 5
}
