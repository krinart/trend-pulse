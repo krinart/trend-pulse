{
 "cells": [
  {
   "cell_type": "code",
   "execution_count": 4,
   "id": "bff086bf-e869-49b5-a617-57c5d3ea9d09",
   "metadata": {},
   "outputs": [
    {
     "name": "stdout",
     "output_type": "stream",
     "text": [
      "The autoreload extension is already loaded. To reload it, use:\n",
      "  %reload_ext autoreload\n"
     ]
    }
   ],
   "source": [
    "%load_ext autoreload\n",
    "%autoreload 2\n",
    "\n",
    "import sys\n",
    "import os\n",
    "sys.path.append('..')\n",
    "sys.path.append(os.path.abspath('../trend_detection/'))\n",
    "    \n",
    "from datetime import datetime\n",
    "import pytz\n",
    "import json\n",
    "import random\n",
    "import time\n",
    "import matplotlib.pyplot as plt\n",
    "import numpy as np\n",
    "from collections import defaultdict\n",
    "from datetime import timedelta\n",
    "    \n",
    "import map_utils\n",
    "    \n",
    "from gen_lib import data_saver, generation_utils\n",
    "from gen_lib.config import *\n",
    "from gen_lib.locations import LocationData\n",
    "from gen_lib.grid_generator import generate_location_heatmap, VariationConfig, GridGeneratorEnhanced\n",
    "from gen_lib.trends import TrendConfig, TrendGenerator, save_trend_data\n",
    "from gen_lib.time_series import TimeSeriesHeatmapGenerator, TimeSeriesConfig\n",
    "\n",
    "from stream_generation.azure_generator import AzureContentGenerator\n",
    "from stream_generation import trends\n",
    "\n",
    "from trend_detection_embeddings import TrendDetectorEmbeddings"
   ]
  },
  {
   "cell_type": "code",
   "execution_count": 7,
   "id": "3800f0f8-a56b-478d-a220-b76bf6eb5dc4",
   "metadata": {},
   "outputs": [],
   "source": [
    "AZURE_OPENAI_ENDPOINT = \"https://my-first-open-ai-service.openai.azure.com/openai/deployments/gpt-35-turbo/chat/completions?api-version=2024-08-01-preview\"\n",
    "AZURE_OPENAI_KEY = \"\"\n",
    "\n",
    "generator = AzureContentGenerator(\n",
    "    openai_endpoint=AZURE_OPENAI_ENDPOINT,\n",
    "    openai_key=AZURE_OPENAI_KEY,\n",
    "    temperature=1.2,\n",
    ")"
   ]
  },
  {
   "cell_type": "code",
   "execution_count": 51,
   "id": "7b8ed039-1047-402c-b39a-d74053ad1287",
   "metadata": {},
   "outputs": [
    {
     "data": {
      "text/plain": [
       "{'trend_id': 1,\n",
       " 'trend_name': 'AI Model Breakthrough',\n",
       " 'topic': 'TECH',\n",
       " 'text': '\"Mind blown by the latest #AI Model Breakthrough. Human-level reasoning for complex problem-solving tasks! Big news for #TechInnovation & the #FutureTech landscape. Can\\'t wait for live demos and ethical debates. #AGI\"'}"
      ]
     },
     "execution_count": 51,
     "metadata": {},
     "output_type": "execute_result"
    }
   ],
   "source": [
    "generator.generate_message(trends.TRENDS[0])"
   ]
  },
  {
   "cell_type": "code",
   "execution_count": null,
   "id": "9cae6d49-011c-4914-8be1-a25da2453e7b",
   "metadata": {},
   "outputs": [],
   "source": [
    "messages = []\n",
    "\n",
    "for j, event in enumerate(trends.TRENDS):\n",
    "    for i in range(100):\n",
    "        msg = generator.generate_message(event)\n",
    "        messages.append(msg)\n",
    "        print(j, i)\n",
    "        # print(msg['text'])\n",
    "        # print('-'*80)"
   ]
  },
  {
   "cell_type": "code",
   "execution_count": 45,
   "id": "c0784486-012d-4dc5-9bad-f06c790dc08d",
   "metadata": {},
   "outputs": [
    {
     "data": {
      "text/plain": [
       "800"
      ]
     },
     "execution_count": 45,
     "metadata": {},
     "output_type": "execute_result"
    }
   ],
   "source": [
    "len(messages)"
   ]
  },
  {
   "cell_type": "code",
   "execution_count": 50,
   "id": "61126daa-5580-4393-83b1-a3207fe6bb4f",
   "metadata": {},
   "outputs": [
    {
     "data": {
      "text/plain": [
       "'\"This AI breakthrough is mindblowing! The model can reason like a human on complex problem-solving tasks #AI #AGI #TechInnovation #FutureTech\"'"
      ]
     },
     "execution_count": 50,
     "metadata": {},
     "output_type": "execute_result"
    }
   ],
   "source": [
    "messages[0]"
   ]
  },
  {
   "cell_type": "code",
   "execution_count": 48,
   "id": "a00059eb-dabe-4661-bc3f-74b4f58e7cfe",
   "metadata": {},
   "outputs": [],
   "source": [
    "df = pd.DataFrame(messages).rename(columns={'id': 'trend_id', 'name': 'trend_name'})\n",
    "df.to_json('../stream_generation/data/messages_raw.json', orient='records')"
   ]
  },
  {
   "cell_type": "code",
   "execution_count": 44,
   "id": "a28b1c77-2468-4129-9f2d-13d109190432",
   "metadata": {},
   "outputs": [
    {
     "name": "stdout",
     "output_type": "stream",
     "text": [
      "TrendEvent(trend_id='trend_1732691453_tech_model_futuretech_agi_techinnovation', trend_event='TREND_CREATED', trend_info='tech, model, futuretech, agi, techinnovation')\n",
      "TrendEvent(trend_id='trend_1732691454_victory_championship_celebration_chicagosports_downtown', trend_event='TREND_CREATED', trend_info='victory, championship, celebration, chicagosports, downtown')\n",
      "TrendEvent(trend_id='trend_1732691454_innovation_tech_techconference_summit_launches', trend_event='TREND_CREATED', trend_info='innovation, tech, techconference, summit, launches')\n",
      "TrendEvent(trend_id='trend_1732691454_trading_financialcrisis_stockmarket_wallstreet_emergency', trend_event='TREND_CREATED', trend_info='trading, financialcrisis, stockmarket, wallstreet, emergency')\n",
      "TrendEvent(trend_id='trend_1732691454_festival_beach_entertainment_miamimusic_music', trend_event='TREND_CREATED', trend_info='festival, beach, entertainment, miamimusic, music')\n",
      "TrendEvent(trend_id='trend_1732691455_sports_championship_worldcupfinal_var_decision', trend_event='TREND_CREATED', trend_info='sports, championship, worldcupfinal, var, decision')\n",
      "TrendEvent(trend_id='trend_1732691456_infrastructure_crisis_transportation_latraffic_highway', trend_event='TREND_CREATED', trend_info='infrastructure, crisis, transportation, latraffic, highway')\n",
      "TrendEvent(trend_id='trend_1732691456_cinema_entertainment_boxoffice_moviepremiere_cant', trend_event='TREND_CREATED', trend_info='cinema, entertainment, boxoffice, moviepremiere, cant')\n"
     ]
    }
   ],
   "source": [
    "td = TrendDetectorEmbeddings()\n",
    "\n",
    "messages = list(df[\"text\"])\n",
    "random.shuffle(messages)\n",
    "\n",
    "for i, message in enumerate(messages):\n",
    "    for event in td.process_message(message, \"LA\", time.time()):\n",
    "        print(event)"
   ]
  },
  {
   "cell_type": "code",
   "execution_count": 53,
   "id": "e46f3cbb-3579-491a-a457-c1ada7544225",
   "metadata": {},
   "outputs": [
    {
     "data": {
      "text/html": [
       "<div>\n",
       "<style scoped>\n",
       "    .dataframe tbody tr th:only-of-type {\n",
       "        vertical-align: middle;\n",
       "    }\n",
       "\n",
       "    .dataframe tbody tr th {\n",
       "        vertical-align: top;\n",
       "    }\n",
       "\n",
       "    .dataframe thead th {\n",
       "        text-align: right;\n",
       "    }\n",
       "</style>\n",
       "<table border=\"1\" class=\"dataframe\">\n",
       "  <thead>\n",
       "    <tr style=\"text-align: right;\">\n",
       "      <th></th>\n",
       "      <th>trend_id</th>\n",
       "      <th>trend_name</th>\n",
       "      <th>topic</th>\n",
       "      <th>text</th>\n",
       "    </tr>\n",
       "  </thead>\n",
       "  <tbody>\n",
       "    <tr>\n",
       "      <th>0</th>\n",
       "      <td>1</td>\n",
       "      <td>AI Model Breakthrough</td>\n",
       "      <td>TECH</td>\n",
       "      <td>\"Mind officially blown! Witnessed an AI model ...</td>\n",
       "    </tr>\n",
       "    <tr>\n",
       "      <th>1</th>\n",
       "      <td>1</td>\n",
       "      <td>AI Model Breakthrough</td>\n",
       "      <td>TECH</td>\n",
       "      <td>\"This AI breakthrough is simply mind-blowing! ...</td>\n",
       "    </tr>\n",
       "    <tr>\n",
       "      <th>2</th>\n",
       "      <td>1</td>\n",
       "      <td>AI Model Breakthrough</td>\n",
       "      <td>TECH</td>\n",
       "      <td>\"This AI breakthrough is mind-blowing! Human-l...</td>\n",
       "    </tr>\n",
       "    <tr>\n",
       "      <th>3</th>\n",
       "      <td>1</td>\n",
       "      <td>AI Model Breakthrough</td>\n",
       "      <td>TECH</td>\n",
       "      <td>\"Interesting how #AI technology is advancing w...</td>\n",
       "    </tr>\n",
       "    <tr>\n",
       "      <th>4</th>\n",
       "      <td>1</td>\n",
       "      <td>AI Model Breakthrough</td>\n",
       "      <td>TECH</td>\n",
       "      <td>\"This AI model breakthrough is taking the worl...</td>\n",
       "    </tr>\n",
       "  </tbody>\n",
       "</table>\n",
       "</div>"
      ],
      "text/plain": [
       "   trend_id             trend_name topic  \\\n",
       "0         1  AI Model Breakthrough  TECH   \n",
       "1         1  AI Model Breakthrough  TECH   \n",
       "2         1  AI Model Breakthrough  TECH   \n",
       "3         1  AI Model Breakthrough  TECH   \n",
       "4         1  AI Model Breakthrough  TECH   \n",
       "\n",
       "                                                text  \n",
       "0  \"Mind officially blown! Witnessed an AI model ...  \n",
       "1  \"This AI breakthrough is simply mind-blowing! ...  \n",
       "2  \"This AI breakthrough is mind-blowing! Human-l...  \n",
       "3  \"Interesting how #AI technology is advancing w...  \n",
       "4  \"This AI model breakthrough is taking the worl...  "
      ]
     },
     "execution_count": 53,
     "metadata": {},
     "output_type": "execute_result"
    }
   ],
   "source": [
    "df2 = pd.read_json('../trend_detection/data/messages.json')\n",
    "df2.head()"
   ]
  },
  {
   "cell_type": "code",
   "execution_count": 57,
   "id": "f97bbba6-72c2-4b37-84b7-8142bce679ae",
   "metadata": {},
   "outputs": [],
   "source": [
    "df2.to_json('../stream_generation/data/messages_raw.json', orient='records')"
   ]
  }
 ],
 "metadata": {
  "kernelspec": {
   "display_name": "Python 3 (ipykernel)",
   "language": "python",
   "name": "python3"
  },
  "language_info": {
   "codemirror_mode": {
    "name": "ipython",
    "version": 3
   },
   "file_extension": ".py",
   "mimetype": "text/x-python",
   "name": "python",
   "nbconvert_exporter": "python",
   "pygments_lexer": "ipython3",
   "version": "3.9.6"
  }
 },
 "nbformat": 4,
 "nbformat_minor": 5
}
